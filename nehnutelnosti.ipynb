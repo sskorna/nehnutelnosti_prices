{
 "cells": [
  {
   "cell_type": "code",
   "execution_count": 1,
   "metadata": {},
   "outputs": [],
   "source": [
    "from bs4 import BeautifulSoup\n",
    "import requests\n",
    "from datetime import datetime\n",
    "import pandas as pd\n",
    "import numpy as np\n",
    "import seaborn as sns\n",
    "from matplotlib import pyplot as plt"
   ]
  },
  {
   "cell_type": "code",
   "execution_count": 2,
   "metadata": {
    "scrolled": true
   },
   "outputs": [
    {
     "name": "stdout",
     "output_type": "stream",
     "text": [
      "0\n",
      "30\n",
      "<div class=\"advertisement-item--content__price col-auto pl-0 pl-md-3 pr-0 text-right mt-2 mt-md-0 align-self-end\">\n",
      "                            Cena dohodou                                                    </div>\n",
      "1\n",
      "https://www.nehnutelnosti.sk/3-izbove-byty/predaj/?p[location]=t9.t7.t8&p[page]=2\n",
      "30\n",
      "2\n",
      "https://www.nehnutelnosti.sk/3-izbove-byty/predaj/?p[location]=t9.t7.t8&p[page]=3\n",
      "30\n",
      "<div class=\"advertisement-item--content__price col-auto pl-0 pl-md-3 pr-0 text-right mt-2 mt-md-0 align-self-end\">\n",
      "                            Cena dohodou                                                    </div>\n",
      "3\n",
      "https://www.nehnutelnosti.sk/3-izbove-byty/predaj/?p[location]=t9.t7.t8&p[page]=4\n",
      "30\n",
      "<div class=\"advertisement-item--content__price col-auto pl-0 pl-md-3 pr-0 text-right mt-2 mt-md-0 align-self-end\">\n",
      "                            229 900 €                            <span class=\"advertisement-item--content__price-unit\"></span> </div>\n",
      "<div class=\"advertisement-item--content__price col-auto pl-0 pl-md-3 pr-0 text-right mt-2 mt-md-0 align-self-end\">\n",
      "                            Cena dohodou                                                    </div>\n",
      "4\n",
      "https://www.nehnutelnosti.sk/3-izbove-byty/predaj/?p[location]=t9.t7.t8&p[page]=5\n",
      "30\n",
      "<div class=\"advertisement-item--content__price col-auto pl-0 pl-md-3 pr-0 text-right mt-2 mt-md-0 align-self-end\">\n",
      "                            Cena dohodou                                                    </div>\n",
      "<div class=\"advertisement-item--content__price col-auto pl-0 pl-md-3 pr-0 text-right mt-2 mt-md-0 align-self-end\">\n",
      "                            Cena dohodou                                                    </div>\n",
      "<div class=\"advertisement-item--content__price col-auto pl-0 pl-md-3 pr-0 text-right mt-2 mt-md-0 align-self-end\">\n",
      "                            Cena dohodou                                                    </div>\n",
      "<div class=\"advertisement-item--content__price col-auto pl-0 pl-md-3 pr-0 text-right mt-2 mt-md-0 align-self-end\">\n",
      "                            Cena dohodou                                                    </div>\n",
      "5\n",
      "https://www.nehnutelnosti.sk/3-izbove-byty/predaj/?p[location]=t9.t7.t8&p[page]=6\n",
      "30\n",
      "<div class=\"advertisement-item--content__price col-auto pl-0 pl-md-3 pr-0 text-right mt-2 mt-md-0 align-self-end\">\n",
      "                            Cena dohodou                                                    </div>\n",
      "<div class=\"advertisement-item--content__price col-auto pl-0 pl-md-3 pr-0 text-right mt-2 mt-md-0 align-self-end\">\n",
      "                            Cena dohodou                                                    </div>\n",
      "6\n",
      "https://www.nehnutelnosti.sk/3-izbove-byty/predaj/?p[location]=t9.t7.t8&p[page]=7\n",
      "28\n",
      "<div class=\"advertisement-item--content__price col-auto pl-0 pl-md-3 pr-0 text-right mt-2 mt-md-0 align-self-end\">\n",
      "                            Cena dohodou                                                    </div>\n",
      "<div class=\"advertisement-item--content__price col-auto pl-0 pl-md-3 pr-0 text-right mt-2 mt-md-0 align-self-end\">\n",
      "                            Cena dohodou                                                    </div>\n",
      "7\n",
      "https://www.nehnutelnosti.sk/3-izbove-byty/predaj/?p[location]=t9.t7.t8&p[page]=8\n",
      "11\n"
     ]
    }
   ],
   "source": [
    "ls_prices = []\n",
    "ls_prices_m2 = []\n",
    "ls_ads = []\n",
    "ads_n=0\n",
    "URL = \"https://www.nehnutelnosti.sk/3-izbove-byty/predaj/?p%5Blocation%5D=t9.t7.t8\"\n",
    "page = requests.get(URL)\n",
    "soup = BeautifulSoup(page.content, \"html.parser\")\n",
    "\n",
    "a = soup.find_all(\"a\",{\"class\":\"component-pagination__arrow-color d-flex align-items-center\"})\n",
    "next_page_href = a[0][\"href\"]\n",
    "print(0)\n",
    "ads = soup.find_all(\"div\", \n",
    "                    {\"class\": [\n",
    "                        \"advertisement-item default-perex-rows is-dev-project mx-auto mb-4\",\n",
    "                        \"advertisement-item default-perex-rows package--profi is-dev-project mx-auto mb-4\",\n",
    "                        \"advertisement-item default-perex-rows perex-rows-3 is-dev-project mx-auto mb-4\",\n",
    "                        \"advertisement-item default-perex-rows perex-rows-3 package--profi is-dev-project mx-auto mb-4\",\n",
    "                        \n",
    "                    ]})\n",
    "print(len(ads))\n",
    "ads_n +=len(ads)\n",
    "for item in ads:\n",
    "    href = item.find(\"a\", {\"class\": \"advertisement-item--content__title d-block text-truncate\"})[\"href\"]\n",
    "    prices = item.find(\"div\", {\"class\": \"advertisement-item--content__price col-auto pl-0 pl-md-3 pr-0 text-right mt-2 mt-md-0 align-self-end\"})\n",
    "\n",
    "    try:\n",
    "        price, price_m2, _ = prices.text.replace(\" \", \"\").replace(\",\", \".\").replace(\"\\n\", \"\").split(\"€\")\n",
    "        ls_prices.append(int(price))\n",
    "        ls_prices_m2.append(int(np.round(float(price_m2), 0)))\n",
    "        ls_ads.append(href)\n",
    "    except ValueError as e:\n",
    "        print(prices)\n",
    "        pass  \n",
    "\n",
    "i=1\n",
    "while next_page_href:\n",
    "    print(i)\n",
    "    print(next_page_href)\n",
    "    \n",
    "    page = requests.get(next_page_href)\n",
    "    soup = BeautifulSoup(page.content, \"html.parser\")\n",
    "    a = soup.find_all(\"a\",{\"class\":\"component-pagination__arrow-color d-flex align-items-center\"})\n",
    "    \n",
    "    i+=1\n",
    "    ads = soup.find_all(\"div\", \n",
    "                        {\"class\": [\n",
    "                            \"advertisement-item default-perex-rows is-dev-project mx-auto mb-4\",\n",
    "                            \"advertisement-item default-perex-rows package--profi is-dev-project mx-auto mb-4\",\n",
    "                            \"advertisement-item default-perex-rows perex-rows-3 is-dev-project mx-auto mb-4\",\n",
    "                            \"advertisement-item default-perex-rows perex-rows-3 package--profi is-dev-project mx-auto mb-4\"\n",
    "                        ]})\n",
    "    print(len(ads))\n",
    "    ads_n+=len(ads)\n",
    "    for item in ads:\n",
    "        href = item.find(\"a\", {\"class\": \"advertisement-item--content__title d-block text-truncate\"})[\"href\"]\n",
    "        prices = item.find(\"div\", {\"class\": \"advertisement-item--content__price col-auto pl-0 pl-md-3 pr-0 text-right mt-2 mt-md-0 align-self-end\"})\n",
    "        \n",
    "        try:\n",
    "            price, price_m2, _ = prices.text.replace(\" \", \"\").replace(\",\", \".\").replace(\"\\n\", \"\").split(\"€\")\n",
    "            ls_prices.append(int(price))\n",
    "            ls_prices_m2.append(int(np.round(float(price_m2), 0)))\n",
    "            ls_ads.append(href)\n",
    "        except ValueError as e:\n",
    "            print(prices)\n",
    "            pass\n",
    "    try:\n",
    "        next_page_href = a[1][\"href\"]\n",
    "    except IndexError as e:\n",
    "        next_page_href = None"
   ]
  },
  {
   "cell_type": "code",
   "execution_count": 3,
   "metadata": {},
   "outputs": [
    {
     "data": {
      "text/plain": [
       "219"
      ]
     },
     "execution_count": 3,
     "metadata": {},
     "output_type": "execute_result"
    }
   ],
   "source": [
    "ads_n"
   ]
  },
  {
   "cell_type": "code",
   "execution_count": 4,
   "metadata": {},
   "outputs": [],
   "source": [
    "pd_nehnutelnosti = pd.DataFrame({\"price\": ls_prices, \"price_m2\":ls_prices_m2, \"ads\": ls_ads})\n",
    "pd_nehnutelnosti[\"date\"] = datetime.today().strftime('%Y-%m-%d')"
   ]
  },
  {
   "cell_type": "code",
   "execution_count": 5,
   "metadata": {},
   "outputs": [
    {
     "data": {
      "text/html": [
       "<div>\n",
       "<style scoped>\n",
       "    .dataframe tbody tr th:only-of-type {\n",
       "        vertical-align: middle;\n",
       "    }\n",
       "\n",
       "    .dataframe tbody tr th {\n",
       "        vertical-align: top;\n",
       "    }\n",
       "\n",
       "    .dataframe thead th {\n",
       "        text-align: right;\n",
       "    }\n",
       "</style>\n",
       "<table border=\"1\" class=\"dataframe\">\n",
       "  <thead>\n",
       "    <tr style=\"text-align: right;\">\n",
       "      <th></th>\n",
       "      <th>price</th>\n",
       "      <th>price_m2</th>\n",
       "      <th>ads</th>\n",
       "      <th>date</th>\n",
       "    </tr>\n",
       "  </thead>\n",
       "  <tbody>\n",
       "    <tr>\n",
       "      <th>0</th>\n",
       "      <td>219900</td>\n",
       "      <td>2933</td>\n",
       "      <td>https://www.nehnutelnosti.sk/4890849/predaj-sl...</td>\n",
       "      <td>2022-12-05</td>\n",
       "    </tr>\n",
       "    <tr>\n",
       "      <th>1</th>\n",
       "      <td>265000</td>\n",
       "      <td>3155</td>\n",
       "      <td>https://www.nehnutelnosti.sk/4888648/4-izbovy-...</td>\n",
       "      <td>2022-12-05</td>\n",
       "    </tr>\n",
       "    <tr>\n",
       "      <th>2</th>\n",
       "      <td>214900</td>\n",
       "      <td>3070</td>\n",
       "      <td>https://www.nehnutelnosti.sk/4907217/prijemny-...</td>\n",
       "      <td>2022-12-05</td>\n",
       "    </tr>\n",
       "    <tr>\n",
       "      <th>3</th>\n",
       "      <td>195000</td>\n",
       "      <td>2534</td>\n",
       "      <td>https://www.nehnutelnosti.sk/4910073/3-izbovy-...</td>\n",
       "      <td>2022-12-05</td>\n",
       "    </tr>\n",
       "    <tr>\n",
       "      <th>4</th>\n",
       "      <td>349900</td>\n",
       "      <td>3683</td>\n",
       "      <td>https://www.nehnutelnosti.sk/4941985/3-izbovy-...</td>\n",
       "      <td>2022-12-05</td>\n",
       "    </tr>\n",
       "    <tr>\n",
       "      <th>...</th>\n",
       "      <td>...</td>\n",
       "      <td>...</td>\n",
       "      <td>...</td>\n",
       "      <td>...</td>\n",
       "    </tr>\n",
       "    <tr>\n",
       "      <th>202</th>\n",
       "      <td>269000</td>\n",
       "      <td>3893</td>\n",
       "      <td>https://www.nehnutelnosti.sk/4872373/predaj-3-...</td>\n",
       "      <td>2022-12-05</td>\n",
       "    </tr>\n",
       "    <tr>\n",
       "      <th>203</th>\n",
       "      <td>269000</td>\n",
       "      <td>3293</td>\n",
       "      <td>https://www.nehnutelnosti.sk/4854139/kompletne...</td>\n",
       "      <td>2022-12-05</td>\n",
       "    </tr>\n",
       "    <tr>\n",
       "      <th>204</th>\n",
       "      <td>210000</td>\n",
       "      <td>3134</td>\n",
       "      <td>https://www.nehnutelnosti.sk/4866128/bytoc-rk-...</td>\n",
       "      <td>2022-12-05</td>\n",
       "    </tr>\n",
       "    <tr>\n",
       "      <th>205</th>\n",
       "      <td>224900</td>\n",
       "      <td>3073</td>\n",
       "      <td>https://www.nehnutelnosti.sk/4848542/rezervova...</td>\n",
       "      <td>2022-12-05</td>\n",
       "    </tr>\n",
       "    <tr>\n",
       "      <th>206</th>\n",
       "      <td>239500</td>\n",
       "      <td>3110</td>\n",
       "      <td>https://www.nehnutelnosti.sk/4858866/jurigovo-...</td>\n",
       "      <td>2022-12-05</td>\n",
       "    </tr>\n",
       "  </tbody>\n",
       "</table>\n",
       "<p>207 rows × 4 columns</p>\n",
       "</div>"
      ],
      "text/plain": [
       "      price  price_m2                                                ads  \\\n",
       "0    219900      2933  https://www.nehnutelnosti.sk/4890849/predaj-sl...   \n",
       "1    265000      3155  https://www.nehnutelnosti.sk/4888648/4-izbovy-...   \n",
       "2    214900      3070  https://www.nehnutelnosti.sk/4907217/prijemny-...   \n",
       "3    195000      2534  https://www.nehnutelnosti.sk/4910073/3-izbovy-...   \n",
       "4    349900      3683  https://www.nehnutelnosti.sk/4941985/3-izbovy-...   \n",
       "..      ...       ...                                                ...   \n",
       "202  269000      3893  https://www.nehnutelnosti.sk/4872373/predaj-3-...   \n",
       "203  269000      3293  https://www.nehnutelnosti.sk/4854139/kompletne...   \n",
       "204  210000      3134  https://www.nehnutelnosti.sk/4866128/bytoc-rk-...   \n",
       "205  224900      3073  https://www.nehnutelnosti.sk/4848542/rezervova...   \n",
       "206  239500      3110  https://www.nehnutelnosti.sk/4858866/jurigovo-...   \n",
       "\n",
       "           date  \n",
       "0    2022-12-05  \n",
       "1    2022-12-05  \n",
       "2    2022-12-05  \n",
       "3    2022-12-05  \n",
       "4    2022-12-05  \n",
       "..          ...  \n",
       "202  2022-12-05  \n",
       "203  2022-12-05  \n",
       "204  2022-12-05  \n",
       "205  2022-12-05  \n",
       "206  2022-12-05  \n",
       "\n",
       "[207 rows x 4 columns]"
      ]
     },
     "execution_count": 5,
     "metadata": {},
     "output_type": "execute_result"
    }
   ],
   "source": [
    "pd_nehnutelnosti"
   ]
  },
  {
   "cell_type": "code",
   "execution_count": 6,
   "metadata": {},
   "outputs": [],
   "source": [
    "pdf_previous = pd.read_csv(\"Documents/byt/nehnutelosti_lamac_dubravka_karlovka.csv\")"
   ]
  },
  {
   "cell_type": "code",
   "execution_count": 7,
   "metadata": {},
   "outputs": [],
   "source": [
    "pd_nehnutelnosti = pd.concat([pdf_previous, pd_nehnutelnosti], axis=0).reset_index(drop=True).drop_duplicates()"
   ]
  },
  {
   "cell_type": "code",
   "execution_count": 8,
   "metadata": {},
   "outputs": [],
   "source": [
    "pd_nehnutelnosti.to_csv(\"Documents/byt/nehnutelosti_lamac_dubravka_karlovka.csv\", index=False)"
   ]
  },
  {
   "cell_type": "code",
   "execution_count": 9,
   "metadata": {},
   "outputs": [
    {
     "name": "stderr",
     "output_type": "stream",
     "text": [
      "No handles with labels found to put in legend.\n"
     ]
    },
    {
     "name": "stdout",
     "output_type": "stream",
     "text": [
      "Mean price : 240147.81028938908\n",
      "Median price : 222000.0\n",
      "Mode price : 209900\n"
     ]
    },
    {
     "data": {
      "image/png": "[encoded data removed]",
      "text/plain": [
       "<Figure size 360x360 with 1 Axes>"
      ]
     },
     "metadata": {
      "needs_background": "light"
     },
     "output_type": "display_data"
    }
   ],
   "source": [
    "mean=pd_nehnutelnosti['price'].mean()\n",
    "median=pd_nehnutelnosti['price'].median()\n",
    "mode=pd_nehnutelnosti['price'].mode().values[0]\n",
    "sns.displot(pd_nehnutelnosti, x=\"price\", kind=\"kde\")\n",
    "\n",
    "plt.axvline(mean, color='r', ls=\"--\")\n",
    "plt.axvline(median, color='g', ls='-')\n",
    "plt.axvline(mode, color='b', ls='-')\n",
    "plt.legend(loc='upper right')\n",
    "print(f\"Mean price : {mean}\")\n",
    "print(f\"Median price : {median}\")\n",
    "print(f\"Mode price : {mode}\")"
   ]
  },
  {
   "cell_type": "code",
   "execution_count": 10,
   "metadata": {},
   "outputs": [
    {
     "name": "stdout",
     "output_type": "stream",
     "text": [
      "Mean price : 3216.540192926045\n",
      "Median price : 3083.5\n",
      "Mode price : 2999\n"
     ]
    },
    {
     "data": {
      "image/png": "[encoded data removed]",
      "text/plain": [
       "<Figure size 360x360 with 1 Axes>"
      ]
     },
     "metadata": {
      "needs_background": "light"
     },
     "output_type": "display_data"
    }
   ],
   "source": [
    "mean=pd_nehnutelnosti['price_m2'].mean()\n",
    "median=pd_nehnutelnosti['price_m2'].median()\n",
    "mode=pd_nehnutelnosti['price_m2'].mode().values[0]\n",
    "sns.displot(pd_nehnutelnosti, x=\"price_m2\", kind=\"kde\")\n",
    "\n",
    "plt.axvline(mean, color='r', ls=\"--\")\n",
    "plt.axvline(median, color='g', ls='-')\n",
    "plt.axvline(mode, color='b', ls='-')\n",
    "print(f\"Mean price : {mean}\")\n",
    "print(f\"Median price : {median}\")\n",
    "print(f\"Mode price : {mode}\")"
   ]
  },
  {
   "cell_type": "code",
   "execution_count": 12,
   "metadata": {},
   "outputs": [
    {
     "ename": "KeyError",
     "evalue": "0",
     "output_type": "error",
     "traceback": [
      "\u001b[1;31m---------------------------------------------------------------------------\u001b[0m",
      "\u001b[1;31mKeyError\u001b[0m                                  Traceback (most recent call last)",
      "\u001b[1;32m~\\Anaconda3\\lib\\site-packages\\pandas\\core\\indexes\\base.py\u001b[0m in \u001b[0;36mget_loc\u001b[1;34m(self, key, method, tolerance)\u001b[0m\n\u001b[0;32m   2894\u001b[0m             \u001b[1;32mtry\u001b[0m\u001b[1;33m:\u001b[0m\u001b[1;33m\u001b[0m\u001b[1;33m\u001b[0m\u001b[0m\n\u001b[1;32m-> 2895\u001b[1;33m                 \u001b[1;32mreturn\u001b[0m \u001b[0mself\u001b[0m\u001b[1;33m.\u001b[0m\u001b[0m_engine\u001b[0m\u001b[1;33m.\u001b[0m\u001b[0mget_loc\u001b[0m\u001b[1;33m(\u001b[0m\u001b[0mcasted_key\u001b[0m\u001b[1;33m)\u001b[0m\u001b[1;33m\u001b[0m\u001b[1;33m\u001b[0m\u001b[0m\n\u001b[0m\u001b[0;32m   2896\u001b[0m             \u001b[1;32mexcept\u001b[0m \u001b[0mKeyError\u001b[0m \u001b[1;32mas\u001b[0m \u001b[0merr\u001b[0m\u001b[1;33m:\u001b[0m\u001b[1;33m\u001b[0m\u001b[1;33m\u001b[0m\u001b[0m\n",
      "\u001b[1;32mpandas\\_libs\\index.pyx\u001b[0m in \u001b[0;36mpandas._libs.index.IndexEngine.get_loc\u001b[1;34m()\u001b[0m\n",
      "\u001b[1;32mpandas\\_libs\\index.pyx\u001b[0m in \u001b[0;36mpandas._libs.index.IndexEngine.get_loc\u001b[1;34m()\u001b[0m\n",
      "\u001b[1;32mpandas\\_libs\\hashtable_class_helper.pxi\u001b[0m in \u001b[0;36mpandas._libs.hashtable.PyObjectHashTable.get_item\u001b[1;34m()\u001b[0m\n",
      "\u001b[1;32mpandas\\_libs\\hashtable_class_helper.pxi\u001b[0m in \u001b[0;36mpandas._libs.hashtable.PyObjectHashTable.get_item\u001b[1;34m()\u001b[0m\n",
      "\u001b[1;31mKeyError\u001b[0m: 0",
      "\nThe above exception was the direct cause of the following exception:\n",
      "\u001b[1;31mKeyError\u001b[0m                                  Traceback (most recent call last)",
      "\u001b[1;32m<ipython-input-12-1dd7534dd688>\u001b[0m in \u001b[0;36m<module>\u001b[1;34m\u001b[0m\n\u001b[1;32m----> 1\u001b[1;33m \u001b[0mpd_nehnutelnosti\u001b[0m\u001b[1;33m.\u001b[0m\u001b[0msort_values\u001b[0m\u001b[1;33m(\u001b[0m\u001b[1;34m\"price_m2\"\u001b[0m\u001b[1;33m)\u001b[0m\u001b[1;33m[\u001b[0m\u001b[1;36m0\u001b[0m\u001b[1;33m]\u001b[0m\u001b[1;33m\u001b[0m\u001b[1;33m\u001b[0m\u001b[0m\n\u001b[0m",
      "\u001b[1;32m~\\Anaconda3\\lib\\site-packages\\pandas\\core\\frame.py\u001b[0m in \u001b[0;36m__getitem__\u001b[1;34m(self, key)\u001b[0m\n\u001b[0;32m   2900\u001b[0m             \u001b[1;32mif\u001b[0m \u001b[0mself\u001b[0m\u001b[1;33m.\u001b[0m\u001b[0mcolumns\u001b[0m\u001b[1;33m.\u001b[0m\u001b[0mnlevels\u001b[0m \u001b[1;33m>\u001b[0m \u001b[1;36m1\u001b[0m\u001b[1;33m:\u001b[0m\u001b[1;33m\u001b[0m\u001b[1;33m\u001b[0m\u001b[0m\n\u001b[0;32m   2901\u001b[0m                 \u001b[1;32mreturn\u001b[0m \u001b[0mself\u001b[0m\u001b[1;33m.\u001b[0m\u001b[0m_getitem_multilevel\u001b[0m\u001b[1;33m(\u001b[0m\u001b[0mkey\u001b[0m\u001b[1;33m)\u001b[0m\u001b[1;33m\u001b[0m\u001b[1;33m\u001b[0m\u001b[0m\n\u001b[1;32m-> 2902\u001b[1;33m             \u001b[0mindexer\u001b[0m \u001b[1;33m=\u001b[0m \u001b[0mself\u001b[0m\u001b[1;33m.\u001b[0m\u001b[0mcolumns\u001b[0m\u001b[1;33m.\u001b[0m\u001b[0mget_loc\u001b[0m\u001b[1;33m(\u001b[0m\u001b[0mkey\u001b[0m\u001b[1;33m)\u001b[0m\u001b[1;33m\u001b[0m\u001b[1;33m\u001b[0m\u001b[0m\n\u001b[0m\u001b[0;32m   2903\u001b[0m             \u001b[1;32mif\u001b[0m \u001b[0mis_integer\u001b[0m\u001b[1;33m(\u001b[0m\u001b[0mindexer\u001b[0m\u001b[1;33m)\u001b[0m\u001b[1;33m:\u001b[0m\u001b[1;33m\u001b[0m\u001b[1;33m\u001b[0m\u001b[0m\n\u001b[0;32m   2904\u001b[0m                 \u001b[0mindexer\u001b[0m \u001b[1;33m=\u001b[0m \u001b[1;33m[\u001b[0m\u001b[0mindexer\u001b[0m\u001b[1;33m]\u001b[0m\u001b[1;33m\u001b[0m\u001b[1;33m\u001b[0m\u001b[0m\n",
      "\u001b[1;32m~\\Anaconda3\\lib\\site-packages\\pandas\\core\\indexes\\base.py\u001b[0m in \u001b[0;36mget_loc\u001b[1;34m(self, key, method, tolerance)\u001b[0m\n\u001b[0;32m   2895\u001b[0m                 \u001b[1;32mreturn\u001b[0m \u001b[0mself\u001b[0m\u001b[1;33m.\u001b[0m\u001b[0m_engine\u001b[0m\u001b[1;33m.\u001b[0m\u001b[0mget_loc\u001b[0m\u001b[1;33m(\u001b[0m\u001b[0mcasted_key\u001b[0m\u001b[1;33m)\u001b[0m\u001b[1;33m\u001b[0m\u001b[1;33m\u001b[0m\u001b[0m\n\u001b[0;32m   2896\u001b[0m             \u001b[1;32mexcept\u001b[0m \u001b[0mKeyError\u001b[0m \u001b[1;32mas\u001b[0m \u001b[0merr\u001b[0m\u001b[1;33m:\u001b[0m\u001b[1;33m\u001b[0m\u001b[1;33m\u001b[0m\u001b[0m\n\u001b[1;32m-> 2897\u001b[1;33m                 \u001b[1;32mraise\u001b[0m \u001b[0mKeyError\u001b[0m\u001b[1;33m(\u001b[0m\u001b[0mkey\u001b[0m\u001b[1;33m)\u001b[0m \u001b[1;32mfrom\u001b[0m \u001b[0merr\u001b[0m\u001b[1;33m\u001b[0m\u001b[1;33m\u001b[0m\u001b[0m\n\u001b[0m\u001b[0;32m   2898\u001b[0m \u001b[1;33m\u001b[0m\u001b[0m\n\u001b[0;32m   2899\u001b[0m         \u001b[1;32mif\u001b[0m \u001b[0mtolerance\u001b[0m \u001b[1;32mis\u001b[0m \u001b[1;32mnot\u001b[0m \u001b[1;32mNone\u001b[0m\u001b[1;33m:\u001b[0m\u001b[1;33m\u001b[0m\u001b[1;33m\u001b[0m\u001b[0m\n",
      "\u001b[1;31mKeyError\u001b[0m: 0"
     ]
    }
   ],
   "source": [
    "pd_nehnutelnosti.sort_values(\"price_m2\")[0]"
   ]
  },
  {
   "cell_type": "code",
   "execution_count": null,
   "metadata": {},
   "outputs": [],
   "source": []
  }
 ],
 "metadata": {
  "kernelspec": {
   "display_name": "Python 3 (ipykernel)",
   "language": "python",
   "name": "python3"
  },
  "language_info": {
   "codemirror_mode": {
    "name": "ipython",
    "version": 3
   },
   "file_extension": ".py",
   "mimetype": "text/x-python",
   "name": "python",
   "nbconvert_exporter": "python",
   "pygments_lexer": "ipython3",
   "version": "3.10.7"
  }
 },
 "nbformat": 4,
 "nbformat_minor": 4
}
